{
 "cells": [
  {
   "cell_type": "markdown",
   "id": "dac79e96",
   "metadata": {},
   "source": [
    "# HW1 — Homework 1 \n",
    "---\n",
    "DSCI 510 (Hermjakob), Spring 2025, USC\n",
    "\n",
    "__Guidelines:__\n",
    "\n",
    "- Please write and submit the programs below by the deadline: Friday, February 21, at 6:00pm Pacific time\n",
    "\n",
    "- You must complete the assignments individually. If you have trouble completing the assignment, please let the teaching assistant (TA) know, during the lab or his office hours. He will help and guide you, but he will not write code for you and no one else should :) !!!  \n",
    "\n",
    "- You have to fill in the code in this notebook and upload it back to Brightspace for submission. Please remember to rename your file as \"HW1_[YOUR FIRSTNAME]_[YOUR LASTNAME].ipynb\" (e.g. HW1_George_Washington.ipynb).\n",
    "\n",
    "- You may look up resources online like Python Docs and Stackoverflow. You may look up topics, but not the questions themselves.\n"
   ]
  },
  {
   "cell_type": "markdown",
   "id": "76c6c4a3",
   "metadata": {},
   "source": [
    "## Q1 [20 points]\n",
    "\n",
    "### Time\n",
    "\n",
    "Write a Python function *convert_seconds_to_large_units()* that converts an integer representing a time span in number of seconds, e.g., 4000, into a human-friendly output in a comma-separated combination of units of time (up to day) such as “1 hour, 6 minutes, 40 seconds”.\n",
    "\n",
    "The non-negative integer argument *n_seconds* represents the number of seconds of a time span.  The program should then return the number of days, hours, minutes and/or seconds equal to the value passed in.  You should only output the minimum number of items; in other words, you should compute days first, then hours, then minutes, then seconds.  Please make sure to handle the singulars and plurals of different unit types (example minute and minutes) while writing your program. Here are some examples.  \n",
    "\n",
    "Note that units with zero-values are not output (except for an input of 0)."
   ]
  },
  {
   "cell_type": "code",
   "execution_count": 54,
   "id": "a56f446e",
   "metadata": {},
   "outputs": [],
   "source": [
    "def convert_seconds_to_large_units(n_seconds: int) -> str:\n",
    "    \n",
    "    def get_minutes(time: dict, seconds: int) -> str:\n",
    "\n",
    "        minutes = seconds // 60\n",
    "        remaining_time = seconds % 60\n",
    "\n",
    "        #output 'minute' or 'minutes'\n",
    "        if minutes == 1:\n",
    "             time['minutes_string'] = 'minute'\n",
    "        elif minutes > 1:\n",
    "            time['minutes_string'] = 'minutes' \n",
    "\n",
    "        #output 'second' or seconds'\n",
    "        if remaining_time == 1:\n",
    "            time['seconds_string'] = 'second'\n",
    "        elif remaining_time > 1:\n",
    "            time['seconds_string'] = 'seconds'\n",
    "\n",
    "        #update time dictionary\n",
    "        if minutes > 0: time['minutes'] = minutes\n",
    "        if remaining_time > 0: time['seconds'] = remaining_time \n",
    "\n",
    "        return time\n",
    "\n",
    "    def get_hours(time: dict, seconds: int) -> str:\n",
    "        hours = seconds // 3600\n",
    "        remaining_time = seconds % 3600\n",
    "\n",
    "        #update dictionary\n",
    "        if hours > 0:\n",
    "            time['hours'] = hours\n",
    "\n",
    "        #output hour or hours\n",
    "        if hours == 1:\n",
    "            time['hours_string'] = 'hour'\n",
    "        elif hours > 1:\n",
    "            time['hours_string'] = 'hours' \n",
    "\n",
    "        if remaining_time > 0:\n",
    "            time =  get_minutes(time, remaining_time)\n",
    "            return time\n",
    "        else: \n",
    "            return time\n",
    "        \n",
    "\n",
    "    def get_days(time: dict, seconds: int) -> dict:\n",
    "        seconds_in_day = 60*60*24\n",
    "        days = seconds // seconds_in_day\n",
    "        remaining_time = seconds % seconds_in_day\n",
    "\n",
    "        #Output 'day' or 'days'\n",
    "        if days == 1:\n",
    "            time['days_string'] = 'day'\n",
    "        elif days > 1:\n",
    "            time['days_string'] = 'days'\n",
    "\n",
    "        #update dictionary\n",
    "        if days > 0:\n",
    "            time['days'] = days\n",
    "\n",
    "        #if there is still time remaning\n",
    "        if remaining_time > 0:\n",
    "            time = get_hours(time, remaining_time)\n",
    "            return time\n",
    "        elif remaining_time == 0:\n",
    "            return time\n",
    "            \n",
    "    #inialize time dictionary\n",
    "    time = {}\n",
    "\n",
    "    #Number of seconds in each time category\n",
    "    seconds_in_minute = 60\n",
    "    seconds_in_hour = seconds_in_minute * 60\n",
    "    seconds_in_day = seconds_in_hour * 24\n",
    "\n",
    "    if n_seconds == 0:\n",
    "        return '0 seconds'\n",
    "    elif n_seconds < 0:\n",
    "        return 'negative values not applicable'\n",
    "\n",
    "    if n_seconds >= seconds_in_day:\n",
    "        time = get_days(time, n_seconds)\n",
    "    elif n_seconds >= seconds_in_hour:\n",
    "        time = get_hours(time, n_seconds)\n",
    "    elif n_seconds > 0 and n_seconds < seconds_in_hour:\n",
    "        time = get_minutes(time, n_seconds)\n",
    "\n",
    "    output = []\n",
    "    for key in ['days', 'hours', 'minutes', 'seconds']:\n",
    "        if key in time:\n",
    "            output.append(f\"{time[key]} {time[f'{key}_string']}\")\n",
    "\n",
    "    return \", \".join(output)\n",
    "\n",
    "            \n"
   ]
  },
  {
   "cell_type": "code",
   "execution_count": 55,
   "id": "56c96b07",
   "metadata": {},
   "outputs": [
    {
     "name": "stdout",
     "output_type": "stream",
     "text": [
      "      0: 0 seconds\n",
      "     40: 40 seconds\n",
      "     60: 1 minute\n",
      "     80: 1 minute, 20 seconds\n",
      "   4000: 1 hour, 6 minutes, 40 seconds\n",
      " 108050: 1 day, 6 hours, 50 seconds\n"
     ]
    }
   ],
   "source": [
    "# open test\n",
    "for test in [0, 40, 60, 80, 4000, 108050]:\n",
    "    print(f\"{test:7d}: {convert_seconds_to_large_units(test)}\")"
   ]
  },
  {
   "cell_type": "code",
   "execution_count": 56,
   "id": "54f9b647",
   "metadata": {},
   "outputs": [
    {
     "name": "stdout",
     "output_type": "stream",
     "text": [
      "0\n",
      "0\n"
     ]
    }
   ],
   "source": [
    "n_seconds = 0\n",
    "hours = n_seconds // 3600\n",
    "remainder_min_sec = n_seconds % 3600\n",
    "print(hours)\n",
    "print(remainder_min_sec)\n"
   ]
  },
  {
   "cell_type": "markdown",
   "id": "f4052627",
   "metadata": {},
   "source": [
    "*Should print:*\n",
    "```\n",
    "      0: 0 seconds\n",
    "     40: 40 seconds\n",
    "     60: 1 minute\n",
    "     80: 1 minute, 20 seconds\n",
    "   4000: 1 hour, 6 minutes, 40 seconds\n",
    " 108050: 1 day, 6 hours, 50 seconds\n",
    "```"
   ]
  },
  {
   "cell_type": "markdown",
   "id": "d8565366",
   "metadata": {},
   "source": [
    "## Q2 [20 points]\n",
    "\n",
    "### Encryption\n",
    "\n",
    "More than 2000 years ago, Roman general and statesman _Julius Caesar_ developed a method to encrypt messages. Implement it.\n",
    "\n",
    "Given a message (string) and an integer _n_, first lower-case the message, and then shift all ASCII letters [a-z] in the message by _n_ letters up and around. E.g., if we shift by __1__ letter (a→b, b→c, c→d, ..., y→z, z→a), _pizza_ will become _qjaab_. &nbsp; If we shift by __2__ letters, \"Pizza costs \\\\$2.\" will become \"rkbbc equvu \\\\$2.\" &nbsp; For characters other than letters a-z, such as spaces and punctuation, keep them as is. &nbsp; In the figure below we shift by __-3__:\n",
    "<p>\n",
    "<div>\n",
    "<img src=\"attachment:Caesar_cipher_left_shift_of_3.svg\" width=\"300\"/>\n",
    "</div>"
   ]
  },
  {
   "cell_type": "code",
   "execution_count": 120,
   "id": "9c56e964",
   "metadata": {},
   "outputs": [],
   "source": [
    "def caesar_encrypt(text: str, shift: int) -> str:\n",
    "    text = text.lower()\n",
    "    new_text = ''\n",
    "    for char in text:\n",
    "        if char.isalpha():\n",
    "            new_char = chr(((ord(char) - ord('a') + shift) % 26) + ord('a'))\n",
    "            new_text = new_text + new_char\n",
    "        else:\n",
    "            new_text = new_text + char\n",
    "\n",
    "    return new_text"
   ]
  },
  {
   "cell_type": "code",
   "execution_count": 121,
   "id": "623c630f",
   "metadata": {},
   "outputs": [
    {
     "name": "stdout",
     "output_type": "stream",
     "text": [
      "ohyyz\n",
      "ohyyz\n",
      "pizza\n",
      "qjaab\n",
      "qjaab\n",
      "rkbbc equvu $2.\n"
     ]
    }
   ],
   "source": [
    "# open test\n",
    "for shift in [-1, 25, 0, 1, 53]:\n",
    "    print(caesar_encrypt('pizza', shift))\n",
    "print(caesar_encrypt('Pizza costs $2.', 2))"
   ]
  },
  {
   "cell_type": "code",
   "execution_count": 114,
   "id": "c612af1e",
   "metadata": {},
   "outputs": [
    {
     "name": "stdout",
     "output_type": "stream",
     "text": [
      "101\n",
      "97\n",
      "4\n"
     ]
    }
   ],
   "source": [
    "# private test\n",
    "print(((ord('b') - ord('a') + 29) % 26) + ord('a'))\n",
    "print(ord('a'))\n",
    "print( 4 % 26)"
   ]
  },
  {
   "cell_type": "markdown",
   "id": "163c0102",
   "metadata": {},
   "source": [
    "## Q3  [20 points]\n",
    "\n",
    "### Character distributions\n",
    "\n",
    "You will now proceed to break Caesar's code. That is, you will decrypt a code without knowing the orginal shift key. To achieve that feat, we can exploit the fact that certain letters such as _e,a,r_ occur more frequently than others such as _x,z,j_. More specifically, we will use _character distributions_ and differences between such character distributions.\n",
    "<p>\n",
    "First, given a text, we build a (relative) character distribution by first counting all the different characters in the text and then dividing the counts by the total number of characters, in order to normalize the distribution.\n",
    "Note that a character distribution does not capture the order of characters at all.<br>\n",
    "\n",
    "__Function name:__ char_distribution<br>\n",
    "__Input:__ a text (string)<br>\n",
    "__Output:__ a dictionary containing the character distribution of the text.<br>\n",
    "__Example:__ print result for the first open test below<br>\n",
    "Format: (1) text, (2) the text's character distribution. Note that the numbers in a character distribution always add up to 1.0.\n",
    "    \n",
    "```\n",
    "Open test of char_distribution:\n",
    "state {'s': 0.2, 't': 0.4, 'a': 0.2, 'e': 0.2}\n",
    "taste {'t': 0.4, 'a': 0.2, 's': 0.2, 'e': 0.2}\n",
    "on {'o': 0.5, 'n': 0.5}\n",
    "noon {'n': 0.5, 'o': 0.5}\n",
    "```\n",
    "    \n",
    "Second, given two character distributions as built by function _char_distribution_, we compare them to find out how different the distributions are, returning a float ranging from 0.0 (indicating that the two distributions are the same) to 1.0 (indicating that the two distributions are totally different, with no overlap).\n",
    "One relatively simple way to compute a distribution difference is to iterate over all keys/characters that occur in either distribution,\n",
    "compute the difference in value for each key, then add up the (absolute) value differences. \n",
    "Ideally, to have a normalized distribution difference of 1.0 for non-overlapping distributions, \n",
    "you have to normalize the sum of absolute differences by a certain constant number. Try to find out that constant yourself.\n",
    "But note that this normaliztion is not critical to break the code in the next section.<br>\n",
    "\n",
    "__Function name:__ distribution_diff<br>\n",
    "__Input:__ two character distributions (of type dict)<br>\n",
    "__Output:__ a float representing how different the character distributions are<br>\n",
    "__Example:__ print result for the second open test below.<br>\n",
    "Format: (1) first text, (2) second text, (3) difference in the texts' character distributions.\n",
    "```\n",
    "Open test of distribution_diff:\n",
    "state taste 0.0\n",
    "on noon 0.0\n",
    "deter metre 0.2\n",
    "fork spoon 0.75\n",
    "fork spaghetti 1.0\n",
    "```"
   ]
  },
  {
   "cell_type": "code",
   "execution_count": 177,
   "id": "4c4de05b",
   "metadata": {},
   "outputs": [],
   "source": [
    "def char_distribution(text: str) -> dict:\n",
    "    \"\"\"Build relative character distribution (one-grams)\n",
    "       Example: 'hello' → {'h': 0.2, 'e': 0.2, 'l': 0.4, 'o': 0.2}\"\"\"\n",
    "    #initailize sets, word, and dictionary\n",
    "    word = text.lower()\n",
    "    char_set = set()\n",
    "    char_distribution = dict()\n",
    "\n",
    "    for char in word:\n",
    "        char_set.add(char)\n",
    "        char_count = word.count(char)\n",
    "        char_distribution[char] = char_count/len(word)\n",
    "\n",
    "    return char_distribution\n",
    "\n",
    "def distribution_diff(d1: dict, d2: dict) -> float:\n",
    "    \"\"\"Compute simple difference between distributions (0.0: identical, 1.0: no overlap)\"\"\"\n",
    "    #extract the characters from the dictionaries\n",
    "    chars_d1 = set(d1.keys())\n",
    "    chars_d2 = set(d2.keys())\n",
    "    all_unique_chars = chars_d1.union(chars_d2)\n",
    "\n",
    "    distribution_difference = 0\n",
    "    for char in all_unique_chars:\n",
    "        distribution_difference = distribution_difference + abs(d1.get(char, 0) - d2.get(char, 0)) / 2\n",
    "    \n",
    "    return distribution_difference"
   ]
  },
  {
   "cell_type": "code",
   "execution_count": 178,
   "id": "959f0569",
   "metadata": {},
   "outputs": [
    {
     "name": "stdout",
     "output_type": "stream",
     "text": [
      "Open test of char_distribution:\n",
      "state {'s': 0.2, 't': 0.4, 'a': 0.2, 'e': 0.2}\n",
      "taste {'t': 0.4, 'a': 0.2, 's': 0.2, 'e': 0.2}\n",
      "on {'o': 0.5, 'n': 0.5}\n",
      "noon {'n': 0.5, 'o': 0.5}\n",
      "deter {'d': 0.2, 'e': 0.4, 't': 0.2, 'r': 0.2}\n",
      "metre {'m': 0.2, 'e': 0.4, 't': 0.2, 'r': 0.2}\n",
      "spaghetti {'s': 0.1111111111111111, 'p': 0.1111111111111111, 'a': 0.1111111111111111, 'g': 0.1111111111111111, 'h': 0.1111111111111111, 'e': 0.1111111111111111, 't': 0.2222222222222222, 'i': 0.1111111111111111}\n",
      "spoon {'s': 0.2, 'p': 0.2, 'o': 0.4, 'n': 0.2}\n",
      "\n",
      "Open test of distribution_diff:\n",
      "state taste 0.0\n",
      "on noon 0.0\n",
      "deter metre 0.2\n",
      "fork spoon 0.75\n",
      "fork spaghetti 1.0000000000000002\n"
     ]
    }
   ],
   "source": [
    "# open test\n",
    "print('Open test of char_distribution:')\n",
    "for text in ['state', 'taste', 'on', 'noon','deter','metre','spaghetti','spoon']:\n",
    "    print(text, char_distribution(text))\n",
    "\n",
    "print('\\nOpen test of distribution_diff:')\n",
    "for word1, word2 in [('state', 'taste'), ('on', 'noon'), ('deter', 'metre'), ('fork', 'spoon'), ('fork', 'spaghetti')]:\n",
    "    print(word1, word2, distribution_diff(char_distribution(word1), char_distribution(word2)))"
   ]
  },
  {
   "cell_type": "markdown",
   "id": "bc6a6948",
   "metadata": {},
   "source": [
    "# Q4  [20 points]\n",
    "\n",
    "### Code breaker\n",
    "\n",
    "Now you have the tools to crack Caesar's code.\n",
    "\n",
    "First, we need a reference text of some length in the same language as the expected messages.\n",
    "This reference text will provide us with an idea which letters are common in English (such as _e_ and _a_) and which letters are rare in English (such as _z_ and _j_).\n",
    "Let's use Lincoln's _Gettysburg Address_ of 1863. We use it to build a _reference character distribution_. \n",
    "\n",
    "Then, for a given unknown encrypted message, for which we don't know the key (the number of places the letters have been shifted), we try out all shifts from 0-25, which gives us 26 message candidates of decrypted messages. But which of them is the best? For each message candidate, we compute its character distribution and then compare that character distribution with our reference character distribution. \n",
    "Finally, we pick the shift that yields the best (lowest) character distribution difference compared to the reference character distribution.\n",
    "\n",
    "__Function name:__ caesar_decrypt<br>\n",
    "__Input:__ an encrypted message (string) and an unrelated unencrypted reference text (string)<br>\n",
    "__Output:__ (1) the decrypted message, (2) the corresponding shift-key _n_ needed to get back to the original unencrypted message, and (3) the best character distribution difference.\n",
    "If the decryption is correct, the original encryption shift and the decryption shift should add up to 26."
   ]
  },
  {
   "cell_type": "code",
   "execution_count": null,
   "id": "9b5b7b58",
   "metadata": {},
   "outputs": [],
   "source": [
    "from typing import Tuple\n",
    "\n",
    "def caesar_decrypt(text: str, ref_text: str) -> Tuple[str, int, float]:\n",
    "    \"\"\"text is encrypted text to be decrypted; \n",
    "       ref_text is unencrypted reference text (in same language), preferably long, e.g. the Gettysburg Address;\n",
    "       return a tuple containing (1) decrypted text, (2) shift key for decryption, (3) best distribution_diff\"\"\"\n",
    "    return '?', '?', '?'  # replace this line with your code"
   ]
  },
  {
   "cell_type": "code",
   "execution_count": null,
   "id": "255e1542",
   "metadata": {},
   "outputs": [],
   "source": [
    "# reference text\n",
    "\n",
    "gettysburg_address = '''\n",
    "Four score and seven years ago our fathers brought forth on this continent, a new nation, conceived in Liberty, and dedicated to the proposition that all men are created equal.\n",
    "Now we are engaged in a great civil war, testing whether that nation, or any nation so conceived and so dedicated, can long endure. \n",
    "We are met on a great battle-field of that war. \n",
    "We have come to dedicate a portion of that field, as a final resting place for those who here gave their lives that that nation might live. \n",
    "It is altogether fitting and proper that we should do this.\n",
    "But, in a larger sense, we can not dedicate—we can not consecrate—we can not hallow—this ground. \n",
    "The brave men, living and dead, who struggled here, have consecrated it, far above our poor power to add or detract. \n",
    "The world will little note, nor long remember what we say here, but it can never forget what they did here. \n",
    "It is for us the living, rather, to be dedicated here to the unfinished work which they who fought here have thus far so nobly advanced. \n",
    "It is rather for us to be here dedicated to the great task remaining before us—that from these honored dead we take increased devotion to that cause for which they gave the last full measure of devotion—that we here highly resolve that these dead shall not have died in vain—that this nation, under God, shall have a new birth of freedom—and that government of the people, by the people, for the people, shall not perish from the earth.\n",
    "'''"
   ]
  },
  {
   "cell_type": "code",
   "execution_count": null,
   "id": "9b357a30",
   "metadata": {},
   "outputs": [],
   "source": [
    "# open test cases\n",
    "\n",
    "import random\n",
    "\n",
    "messages = ['This is a test of decoding a secret message.', \n",
    "            'Ukraine is warning that Moscow is regrouping hundred of thousands of troops on the border for a massive new offensive, just weeks before the first anniversary of Russia’s invasion.',\n",
    "            'Fere libenter homines id quod volunt credunt.',\n",
    "            \"Good luck breaking Caesar's code!\",\n",
    "            'You are a master code breaker!',\n",
    "            \"They're out of ammo.\",\n",
    "            'bez municije',\n",
    "            'too short']\n",
    "\n",
    "shift_keys = [random.randint(1, 25) for message in messages]"
   ]
  },
  {
   "cell_type": "code",
   "execution_count": null,
   "id": "db487ce3",
   "metadata": {},
   "outputs": [],
   "source": [
    "# encrypt and decrypt\n",
    "\n",
    "for message, shift_key in zip(messages, shift_keys):\n",
    "    encrypted_message = caesar_encrypt(message, shift_key)\n",
    "    # Now we try to decrypt the encrypted message, without access to the shift key.\n",
    "    decrypted_message_info = caesar_decrypt(encrypted_message, gettysburg_address)\n",
    "    # Print out all steps. If we decrypted correctly, \n",
    "    # the decrypted_message should match the original message.\n",
    "    print(f'Original:  {message}\\n'\n",
    "          f'Encrypted: {encrypted_message} (Shifted: {shift_key})\\n'\n",
    "          f'Decrypted: {decrypted_message_info[0]} (Shifted: {decrypted_message_info[1]}, distr-diff: {decrypted_message_info[2]})\\n')"
   ]
  }
 ],
 "metadata": {
  "kernelspec": {
   "display_name": "Python 3",
   "language": "python",
   "name": "python3"
  },
  "language_info": {
   "codemirror_mode": {
    "name": "ipython",
    "version": 3
   },
   "file_extension": ".py",
   "mimetype": "text/x-python",
   "name": "python",
   "nbconvert_exporter": "python",
   "pygments_lexer": "ipython3",
   "version": "3.13.2"
  }
 },
 "nbformat": 4,
 "nbformat_minor": 5
}
